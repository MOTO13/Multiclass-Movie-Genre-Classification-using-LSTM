{
  "nbformat": 4,
  "nbformat_minor": 0,
  "metadata": {
    "colab": {
      "name": "Submission 1 - NLP - BPML - Hazmi Cokro.ipynb",
      "provenance": [],
      "collapsed_sections": []
    },
    "kernelspec": {
      "name": "python3",
      "display_name": "Python 3"
    }
  },
  "cells": [
    {
      "cell_type": "markdown",
      "metadata": {
        "id": "o5Im125tzlCU",
        "colab_type": "text"
      },
      "source": [
        "Mochammad Hazmi Cokro Mandiri\n",
        "> Dataset : \"Movie Genre Data\" \\\n",
        "> Sumber : Kaggle \\\n",
        "> Link Dataset : https://www.kaggle.com/lokkagle/movie-genre-data"
      ]
    },
    {
      "cell_type": "markdown",
      "metadata": {
        "id": "IzRxdQxzzyrB",
        "colab_type": "text"
      },
      "source": [
        "Library"
      ]
    },
    {
      "cell_type": "code",
      "metadata": {
        "id": "HT1pj1_4zRbM",
        "colab_type": "code",
        "colab": {}
      },
      "source": [
        "from google.colab import drive\n",
        "\n",
        "# u/ dataframe\n",
        "import pandas as pd\n",
        "import re\n",
        "\n",
        "\n",
        "# u/ split data\n",
        "from sklearn.model_selection import train_test_split\n",
        "\n",
        "# u/ preprocessing dan layer\n",
        "import tensorflow as tf\n",
        "from tensorflow.keras.preprocessing.text import Tokenizer\n",
        "from tensorflow.keras.preprocessing.sequence import pad_sequences\n",
        "from tensorflow.keras.layers import LSTM,Dense,Embedding,Dropout\n",
        "from tensorflow.keras.models import Sequential\n",
        "from tensorflow.keras.optimizers import Adam\n",
        "\n",
        "# u/ visualisasi plot\n",
        "import matplotlib.pyplot as plt"
      ],
      "execution_count": 21,
      "outputs": []
    },
    {
      "cell_type": "markdown",
      "metadata": {
        "id": "v37hyc919iAd",
        "colab_type": "text"
      },
      "source": [
        "Mount ke drive"
      ]
    },
    {
      "cell_type": "code",
      "metadata": {
        "id": "h30F5yyLdrcK",
        "colab_type": "code",
        "colab": {
          "base_uri": "https://localhost:8080/",
          "height": 127
        },
        "outputId": "a61d30da-4b5d-4994-98e0-abe7ed5b6866"
      },
      "source": [
        "drive.mount('/content/drive/')"
      ],
      "execution_count": 3,
      "outputs": [
        {
          "output_type": "stream",
          "text": [
            "Go to this URL in a browser: https://accounts.google.com/o/oauth2/auth?client_id=947318989803-6bn6qk8qdgf4n4g3pfee6491hc0brc4i.apps.googleusercontent.com&redirect_uri=urn%3aietf%3awg%3aoauth%3a2.0%3aoob&scope=email%20https%3a%2f%2fwww.googleapis.com%2fauth%2fdocs.test%20https%3a%2f%2fwww.googleapis.com%2fauth%2fdrive%20https%3a%2f%2fwww.googleapis.com%2fauth%2fdrive.photos.readonly%20https%3a%2f%2fwww.googleapis.com%2fauth%2fpeopleapi.readonly&response_type=code\n",
            "\n",
            "Enter your authorization code:\n",
            "··········\n",
            "Mounted at /content/drive/\n"
          ],
          "name": "stdout"
        }
      ]
    },
    {
      "cell_type": "markdown",
      "metadata": {
        "id": "0MhGTg8rz3c3",
        "colab_type": "text"
      },
      "source": [
        "Read Dataset dari drive"
      ]
    },
    {
      "cell_type": "code",
      "metadata": {
        "id": "WQbrOx3QBVoN",
        "colab_type": "code",
        "colab": {
          "base_uri": "https://localhost:8080/",
          "height": 204
        },
        "outputId": "ca14a80a-8692-4da2-c732-09a818994314"
      },
      "source": [
        "df = pd.read_csv(\"/content/drive/My Drive/Submission1/kaggle_movie_train.csv\")\n",
        "df.head()"
      ],
      "execution_count": 7,
      "outputs": [
        {
          "output_type": "execute_result",
          "data": {
            "text/html": [
              "<div>\n",
              "<style scoped>\n",
              "    .dataframe tbody tr th:only-of-type {\n",
              "        vertical-align: middle;\n",
              "    }\n",
              "\n",
              "    .dataframe tbody tr th {\n",
              "        vertical-align: top;\n",
              "    }\n",
              "\n",
              "    .dataframe thead th {\n",
              "        text-align: right;\n",
              "    }\n",
              "</style>\n",
              "<table border=\"1\" class=\"dataframe\">\n",
              "  <thead>\n",
              "    <tr style=\"text-align: right;\">\n",
              "      <th></th>\n",
              "      <th>id</th>\n",
              "      <th>text</th>\n",
              "      <th>genre</th>\n",
              "    </tr>\n",
              "  </thead>\n",
              "  <tbody>\n",
              "    <tr>\n",
              "      <th>0</th>\n",
              "      <td>0</td>\n",
              "      <td>eady dead, maybe even wishing he was. INT. 2ND...</td>\n",
              "      <td>thriller</td>\n",
              "    </tr>\n",
              "    <tr>\n",
              "      <th>1</th>\n",
              "      <td>2</td>\n",
              "      <td>t, summa cum laude and all. And I'm about to l...</td>\n",
              "      <td>comedy</td>\n",
              "    </tr>\n",
              "    <tr>\n",
              "      <th>2</th>\n",
              "      <td>3</td>\n",
              "      <td>up Come, I have a surprise.... She takes him ...</td>\n",
              "      <td>drama</td>\n",
              "    </tr>\n",
              "    <tr>\n",
              "      <th>3</th>\n",
              "      <td>4</td>\n",
              "      <td>ded by the two detectives. INT. JEFF'S APARTME...</td>\n",
              "      <td>thriller</td>\n",
              "    </tr>\n",
              "    <tr>\n",
              "      <th>4</th>\n",
              "      <td>5</td>\n",
              "      <td>nd dismounts, just as the other children reach...</td>\n",
              "      <td>drama</td>\n",
              "    </tr>\n",
              "  </tbody>\n",
              "</table>\n",
              "</div>"
            ],
            "text/plain": [
              "   id                                               text     genre\n",
              "0   0  eady dead, maybe even wishing he was. INT. 2ND...  thriller\n",
              "1   2  t, summa cum laude and all. And I'm about to l...    comedy\n",
              "2   3   up Come, I have a surprise.... She takes him ...     drama\n",
              "3   4  ded by the two detectives. INT. JEFF'S APARTME...  thriller\n",
              "4   5  nd dismounts, just as the other children reach...     drama"
            ]
          },
          "metadata": {
            "tags": []
          },
          "execution_count": 7
        }
      ]
    },
    {
      "cell_type": "markdown",
      "metadata": {
        "id": "P92pDJTY2gl5",
        "colab_type": "text"
      },
      "source": [
        "Mengecek jumlah value tiap genre"
      ]
    },
    {
      "cell_type": "code",
      "metadata": {
        "id": "runs3aD52bdy",
        "colab_type": "code",
        "colab": {
          "base_uri": "https://localhost:8080/",
          "height": 197
        },
        "outputId": "7978b7f3-b3b4-4d16-f9c9-bac69566644f"
      },
      "source": [
        "df['genre'].value_counts()"
      ],
      "execution_count": 8,
      "outputs": [
        {
          "output_type": "execute_result",
          "data": {
            "text/plain": [
              "drama        8873\n",
              "thriller     6824\n",
              "comedy       2941\n",
              "action       2392\n",
              "sci-fi        613\n",
              "horror        456\n",
              "other         270\n",
              "adventure     147\n",
              "romance        63\n",
              "Name: genre, dtype: int64"
            ]
          },
          "metadata": {
            "tags": []
          },
          "execution_count": 8
        }
      ]
    },
    {
      "cell_type": "markdown",
      "metadata": {
        "id": "_yp-oMEs2m3y",
        "colab_type": "text"
      },
      "source": [
        "Kesempatan kali ini akan menggunakan 4 genre saja yaitu comedy action sci-fi dan horror"
      ]
    },
    {
      "cell_type": "code",
      "metadata": {
        "id": "KdYjlpJ22lwa",
        "colab_type": "code",
        "colab": {
          "base_uri": "https://localhost:8080/",
          "height": 107
        },
        "outputId": "4b4f21fd-f04a-455f-a968-6d9a597e7650"
      },
      "source": [
        "# Menghapus genre selain 4 genre tersebut\n",
        "df = df[~df['genre'].isin(['drama','thriller','other','adventure','romance'])]\n",
        "df['genre'].value_counts()"
      ],
      "execution_count": 10,
      "outputs": [
        {
          "output_type": "execute_result",
          "data": {
            "text/plain": [
              "comedy    2941\n",
              "action    2392\n",
              "sci-fi     613\n",
              "horror     456\n",
              "Name: genre, dtype: int64"
            ]
          },
          "metadata": {
            "tags": []
          },
          "execution_count": 10
        }
      ]
    },
    {
      "cell_type": "markdown",
      "metadata": {
        "id": "4HAiIlP43grO",
        "colab_type": "text"
      },
      "source": [
        "Preprocessing kolom text "
      ]
    },
    {
      "cell_type": "code",
      "metadata": {
        "id": "3Q5KYrBc3T9N",
        "colab_type": "code",
        "colab": {
          "base_uri": "https://localhost:8080/",
          "height": 204
        },
        "outputId": "0aeb151e-e1c0-47cb-e24a-b590e4632349"
      },
      "source": [
        "# Menghapus special character di kolom text\n",
        "df['Text'] = df['text'].map(lambda x: re.sub(r'\\W+', ' ', x))\n",
        "# drop kolom id dan text lama\n",
        "df = df.drop(['id', 'text'], axis=1)\n",
        "df.head()"
      ],
      "execution_count": 11,
      "outputs": [
        {
          "output_type": "execute_result",
          "data": {
            "text/html": [
              "<div>\n",
              "<style scoped>\n",
              "    .dataframe tbody tr th:only-of-type {\n",
              "        vertical-align: middle;\n",
              "    }\n",
              "\n",
              "    .dataframe tbody tr th {\n",
              "        vertical-align: top;\n",
              "    }\n",
              "\n",
              "    .dataframe thead th {\n",
              "        text-align: right;\n",
              "    }\n",
              "</style>\n",
              "<table border=\"1\" class=\"dataframe\">\n",
              "  <thead>\n",
              "    <tr style=\"text-align: right;\">\n",
              "      <th></th>\n",
              "      <th>genre</th>\n",
              "      <th>Text</th>\n",
              "    </tr>\n",
              "  </thead>\n",
              "  <tbody>\n",
              "    <tr>\n",
              "      <th>1</th>\n",
              "      <td>comedy</td>\n",
              "      <td>t summa cum laude and all And I m about to lau...</td>\n",
              "    </tr>\n",
              "    <tr>\n",
              "      <th>9</th>\n",
              "      <td>action</td>\n",
              "      <td>e reels as the world spins Sweat pours off him...</td>\n",
              "    </tr>\n",
              "    <tr>\n",
              "      <th>20</th>\n",
              "      <td>comedy</td>\n",
              "      <td>I say he s a man who ll go far Some people sa...</td>\n",
              "    </tr>\n",
              "    <tr>\n",
              "      <th>25</th>\n",
              "      <td>comedy</td>\n",
              "      <td>you find out where the bachelor party is COLE ...</td>\n",
              "    </tr>\n",
              "    <tr>\n",
              "      <th>29</th>\n",
              "      <td>comedy</td>\n",
              "      <td>ibly horrendous public break up on the quad Ag...</td>\n",
              "    </tr>\n",
              "  </tbody>\n",
              "</table>\n",
              "</div>"
            ],
            "text/plain": [
              "     genre                                               Text\n",
              "1   comedy  t summa cum laude and all And I m about to lau...\n",
              "9   action  e reels as the world spins Sweat pours off him...\n",
              "20  comedy   I say he s a man who ll go far Some people sa...\n",
              "25  comedy  you find out where the bachelor party is COLE ...\n",
              "29  comedy  ibly horrendous public break up on the quad Ag..."
            ]
          },
          "metadata": {
            "tags": []
          },
          "execution_count": 11
        }
      ]
    },
    {
      "cell_type": "markdown",
      "metadata": {
        "id": "vdcozLPK3tL9",
        "colab_type": "text"
      },
      "source": [
        "Pengecekan nilai kosong"
      ]
    },
    {
      "cell_type": "code",
      "metadata": {
        "id": "j4V0Yg0v3tdm",
        "colab_type": "code",
        "colab": {
          "base_uri": "https://localhost:8080/",
          "height": 35
        },
        "outputId": "43362b71-4d25-4759-a892-a11d500ff60a"
      },
      "source": [
        "# Mengecek nilai kosong / nan\n",
        "# Jika true maka ada dan jika false maka tidak ada nilai kosong / nan\n",
        "df.isnull().values.any()"
      ],
      "execution_count": 12,
      "outputs": [
        {
          "output_type": "execute_result",
          "data": {
            "text/plain": [
              "False"
            ]
          },
          "metadata": {
            "tags": []
          },
          "execution_count": 12
        }
      ]
    },
    {
      "cell_type": "markdown",
      "metadata": {
        "id": "6dZ4v3hE39nt",
        "colab_type": "text"
      },
      "source": [
        "Pelabelan genre"
      ]
    },
    {
      "cell_type": "code",
      "metadata": {
        "id": "Edq5diss39zc",
        "colab_type": "code",
        "colab": {
          "base_uri": "https://localhost:8080/",
          "height": 204
        },
        "outputId": "ce03f313-2bd0-4690-de75-adbd10664ce7"
      },
      "source": [
        "genre = pd.get_dummies(df.genre)\n",
        "df_genre = pd.concat([df, genre], axis=1)\n",
        "df_genre = df_genre.drop(columns='genre')\n",
        "df_genre.head()"
      ],
      "execution_count": 13,
      "outputs": [
        {
          "output_type": "execute_result",
          "data": {
            "text/html": [
              "<div>\n",
              "<style scoped>\n",
              "    .dataframe tbody tr th:only-of-type {\n",
              "        vertical-align: middle;\n",
              "    }\n",
              "\n",
              "    .dataframe tbody tr th {\n",
              "        vertical-align: top;\n",
              "    }\n",
              "\n",
              "    .dataframe thead th {\n",
              "        text-align: right;\n",
              "    }\n",
              "</style>\n",
              "<table border=\"1\" class=\"dataframe\">\n",
              "  <thead>\n",
              "    <tr style=\"text-align: right;\">\n",
              "      <th></th>\n",
              "      <th>Text</th>\n",
              "      <th>action</th>\n",
              "      <th>comedy</th>\n",
              "      <th>horror</th>\n",
              "      <th>sci-fi</th>\n",
              "    </tr>\n",
              "  </thead>\n",
              "  <tbody>\n",
              "    <tr>\n",
              "      <th>1</th>\n",
              "      <td>t summa cum laude and all And I m about to lau...</td>\n",
              "      <td>0</td>\n",
              "      <td>1</td>\n",
              "      <td>0</td>\n",
              "      <td>0</td>\n",
              "    </tr>\n",
              "    <tr>\n",
              "      <th>9</th>\n",
              "      <td>e reels as the world spins Sweat pours off him...</td>\n",
              "      <td>1</td>\n",
              "      <td>0</td>\n",
              "      <td>0</td>\n",
              "      <td>0</td>\n",
              "    </tr>\n",
              "    <tr>\n",
              "      <th>20</th>\n",
              "      <td>I say he s a man who ll go far Some people sa...</td>\n",
              "      <td>0</td>\n",
              "      <td>1</td>\n",
              "      <td>0</td>\n",
              "      <td>0</td>\n",
              "    </tr>\n",
              "    <tr>\n",
              "      <th>25</th>\n",
              "      <td>you find out where the bachelor party is COLE ...</td>\n",
              "      <td>0</td>\n",
              "      <td>1</td>\n",
              "      <td>0</td>\n",
              "      <td>0</td>\n",
              "    </tr>\n",
              "    <tr>\n",
              "      <th>29</th>\n",
              "      <td>ibly horrendous public break up on the quad Ag...</td>\n",
              "      <td>0</td>\n",
              "      <td>1</td>\n",
              "      <td>0</td>\n",
              "      <td>0</td>\n",
              "    </tr>\n",
              "  </tbody>\n",
              "</table>\n",
              "</div>"
            ],
            "text/plain": [
              "                                                 Text  action  ...  horror  sci-fi\n",
              "1   t summa cum laude and all And I m about to lau...       0  ...       0       0\n",
              "9   e reels as the world spins Sweat pours off him...       1  ...       0       0\n",
              "20   I say he s a man who ll go far Some people sa...       0  ...       0       0\n",
              "25  you find out where the bachelor party is COLE ...       0  ...       0       0\n",
              "29  ibly horrendous public break up on the quad Ag...       0  ...       0       0\n",
              "\n",
              "[5 rows x 5 columns]"
            ]
          },
          "metadata": {
            "tags": []
          },
          "execution_count": 13
        }
      ]
    },
    {
      "cell_type": "markdown",
      "metadata": {
        "id": "sTZx-_al4rrt",
        "colab_type": "text"
      },
      "source": [
        "Mengubah tipe data"
      ]
    },
    {
      "cell_type": "code",
      "metadata": {
        "id": "K_lMTx384r-U",
        "colab_type": "code",
        "colab": {}
      },
      "source": [
        "# Mengubah tipe data menjadi str dan numpy array \n",
        "text = df_genre['Text'].astype(str)\n",
        "label = df_genre[['action', 'comedy','horror','sci-fi']].values"
      ],
      "execution_count": 16,
      "outputs": []
    },
    {
      "cell_type": "markdown",
      "metadata": {
        "id": "h4Uf7A7R45J9",
        "colab_type": "text"
      },
      "source": [
        "Split dataset 20% test / validasi"
      ]
    },
    {
      "cell_type": "code",
      "metadata": {
        "id": "XTdVGpZz45h8",
        "colab_type": "code",
        "colab": {}
      },
      "source": [
        "genre_train, genre_test, label_train, label_test = train_test_split(text, label, test_size = 0.2)"
      ],
      "execution_count": 17,
      "outputs": []
    },
    {
      "cell_type": "markdown",
      "metadata": {
        "id": "skB01cb45BTK",
        "colab_type": "text"
      },
      "source": [
        "Penggunaan tokenizer"
      ]
    },
    {
      "cell_type": "code",
      "metadata": {
        "id": "t4B4DDcQ5JXc",
        "colab_type": "code",
        "colab": {}
      },
      "source": [
        "# mengkonversikan ke sequence\n",
        "tokenizer = Tokenizer(num_words=5000, oov_token='x')\n",
        "tokenizer.fit_on_texts(genre_train) \n",
        "tokenizer.fit_on_texts(genre_test)\n",
        " \n",
        "sekuens_train = tokenizer.texts_to_sequences(genre_train)\n",
        "sekuens_test = tokenizer.texts_to_sequences(genre_test)\n",
        " \n",
        "padded_train = pad_sequences(sekuens_train) \n",
        "padded_test = pad_sequences(sekuens_test)"
      ],
      "execution_count": 18,
      "outputs": []
    },
    {
      "cell_type": "markdown",
      "metadata": {
        "id": "Ym33M_h25OPr",
        "colab_type": "text"
      },
      "source": [
        "Pemodelan Sequential dengan Embedding dan LSTM"
      ]
    },
    {
      "cell_type": "code",
      "metadata": {
        "id": "-mtEbY4A5WeO",
        "colab_type": "code",
        "colab": {}
      },
      "source": [
        "model = Sequential([\n",
        "    Embedding(input_dim=5000, output_dim=16),\n",
        "    LSTM(64),\n",
        "    Dense(128, activation='relu'),\n",
        "    Dropout(0.5),\n",
        "    Dense(4, activation='softmax')\n",
        "])"
      ],
      "execution_count": 19,
      "outputs": []
    },
    {
      "cell_type": "markdown",
      "metadata": {
        "id": "jtNHjdKv5ZhT",
        "colab_type": "text"
      },
      "source": [
        "Model compiile dengan optimizer Adam"
      ]
    },
    {
      "cell_type": "code",
      "metadata": {
        "id": "iqqbXOrH5bat",
        "colab_type": "code",
        "colab": {}
      },
      "source": [
        "Adam(learning_rate=0.00146, name='Adam')\n",
        "model.compile(optimizer = 'Adam',loss = 'categorical_crossentropy',metrics = ['accuracy'])"
      ],
      "execution_count": 22,
      "outputs": []
    },
    {
      "cell_type": "markdown",
      "metadata": {
        "id": "Er1hRcWh5l0r",
        "colab_type": "text"
      },
      "source": [
        "Penggunaan callback u/ accuracy dan val diatas 90%"
      ]
    },
    {
      "cell_type": "code",
      "metadata": {
        "id": "ri5GZe-F5mEC",
        "colab_type": "code",
        "colab": {}
      },
      "source": [
        "class myCallback(tf.keras.callbacks.Callback):\n",
        "  def on_epoch_end(self, epoch, logs={}):\n",
        "    if(logs.get('accuracy')>0.9 and logs.get('val_accuracy')>0.9):\n",
        "      print(\"\\nAkurasi train dan validasi didapat telah mencapai nilai > 90%!\")\n",
        "      self.model.stop_training = True\n",
        "callbacks = myCallback()"
      ],
      "execution_count": 23,
      "outputs": []
    },
    {
      "cell_type": "markdown",
      "metadata": {
        "id": "SoIiMFMQ5yyy",
        "colab_type": "text"
      },
      "source": [
        "Melatih model"
      ]
    },
    {
      "cell_type": "code",
      "metadata": {
        "id": "EMlZbNgj5yJt",
        "colab_type": "code",
        "colab": {
          "base_uri": "https://localhost:8080/",
          "height": 917
        },
        "outputId": "543e69b5-d737-414d-cc35-df82c93e6cb5"
      },
      "source": [
        "num_epochs = 30\n",
        "history = model.fit(padded_train, label_train, epochs=num_epochs, validation_data=(padded_test, label_test), verbose=2, callbacks=[callbacks])"
      ],
      "execution_count": 24,
      "outputs": [
        {
          "output_type": "stream",
          "text": [
            "Epoch 1/30\n",
            "161/161 - 21s - loss: 1.1548 - accuracy: 0.4499 - val_loss: 1.0174 - val_accuracy: 0.4692\n",
            "Epoch 2/30\n",
            "161/161 - 24s - loss: 0.8752 - accuracy: 0.5882 - val_loss: 0.8772 - val_accuracy: 0.5628\n",
            "Epoch 3/30\n",
            "161/161 - 27s - loss: 0.5679 - accuracy: 0.7676 - val_loss: 0.9552 - val_accuracy: 0.5777\n",
            "Epoch 4/30\n",
            "161/161 - 24s - loss: 0.5295 - accuracy: 0.7799 - val_loss: 0.5678 - val_accuracy: 0.7830\n",
            "Epoch 5/30\n",
            "161/161 - 23s - loss: 0.3028 - accuracy: 0.8770 - val_loss: 0.5314 - val_accuracy: 0.8072\n",
            "Epoch 6/30\n",
            "161/161 - 23s - loss: 0.2427 - accuracy: 0.8899 - val_loss: 0.5271 - val_accuracy: 0.8267\n",
            "Epoch 7/30\n",
            "161/161 - 23s - loss: 0.1621 - accuracy: 0.9248 - val_loss: 0.5951 - val_accuracy: 0.8244\n",
            "Epoch 8/30\n",
            "161/161 - 23s - loss: 0.1462 - accuracy: 0.9352 - val_loss: 0.5710 - val_accuracy: 0.8681\n",
            "Epoch 9/30\n",
            "161/161 - 24s - loss: 0.1273 - accuracy: 0.9496 - val_loss: 0.5378 - val_accuracy: 0.8345\n",
            "Epoch 10/30\n",
            "161/161 - 24s - loss: 0.0988 - accuracy: 0.9563 - val_loss: 0.4851 - val_accuracy: 0.8564\n",
            "Epoch 11/30\n",
            "161/161 - 24s - loss: 0.0751 - accuracy: 0.9734 - val_loss: 0.5451 - val_accuracy: 0.8571\n",
            "Epoch 12/30\n",
            "161/161 - 23s - loss: 0.0596 - accuracy: 0.9799 - val_loss: 0.4858 - val_accuracy: 0.8657\n",
            "Epoch 13/30\n",
            "161/161 - 24s - loss: 0.0638 - accuracy: 0.9779 - val_loss: 0.6681 - val_accuracy: 0.8595\n",
            "Epoch 14/30\n",
            "161/161 - 24s - loss: 0.0450 - accuracy: 0.9867 - val_loss: 0.5475 - val_accuracy: 0.8868\n",
            "Epoch 15/30\n",
            "161/161 - 24s - loss: 0.0080 - accuracy: 0.9982 - val_loss: 0.6081 - val_accuracy: 0.8821\n",
            "Epoch 16/30\n",
            "161/161 - 24s - loss: 0.0046 - accuracy: 0.9992 - val_loss: 0.7653 - val_accuracy: 0.8454\n",
            "Epoch 17/30\n",
            "161/161 - 26s - loss: 0.0115 - accuracy: 0.9959 - val_loss: 0.6422 - val_accuracy: 0.8954\n",
            "Epoch 18/30\n",
            "161/161 - 23s - loss: 0.0104 - accuracy: 0.9975 - val_loss: 0.8483 - val_accuracy: 0.8493\n",
            "Epoch 19/30\n",
            "161/161 - 23s - loss: 0.0520 - accuracy: 0.9861 - val_loss: 0.6124 - val_accuracy: 0.8899\n",
            "Epoch 20/30\n",
            "161/161 - 24s - loss: 0.0358 - accuracy: 0.9875 - val_loss: 0.5183 - val_accuracy: 0.8891\n",
            "Epoch 21/30\n",
            "161/161 - 24s - loss: 0.0357 - accuracy: 0.9895 - val_loss: 0.5400 - val_accuracy: 0.8931\n",
            "Epoch 22/30\n",
            "161/161 - 26s - loss: 0.0248 - accuracy: 0.9941 - val_loss: 0.5522 - val_accuracy: 0.8837\n",
            "Epoch 23/30\n",
            "161/161 - 24s - loss: 0.0122 - accuracy: 0.9969 - val_loss: 0.5573 - val_accuracy: 0.8954\n",
            "Epoch 24/30\n",
            "\n",
            "Akurasi train dan validasi didapat telah mencapai nilai > 90%!\n",
            "161/161 - 24s - loss: 0.0023 - accuracy: 0.9998 - val_loss: 0.5772 - val_accuracy: 0.9009\n"
          ],
          "name": "stdout"
        }
      ]
    },
    {
      "cell_type": "markdown",
      "metadata": {
        "id": "n8tM2QUR3UqS",
        "colab_type": "text"
      },
      "source": [
        "Membuat plot accuracy dan loss"
      ]
    },
    {
      "cell_type": "code",
      "metadata": {
        "id": "aK3VEMMEMrJ6",
        "colab_type": "code",
        "colab": {
          "base_uri": "https://localhost:8080/",
          "height": 573
        },
        "outputId": "3c50f0f4-903f-4f5b-b166-8208ff9d3588"
      },
      "source": [
        "# Plot Accuracy\n",
        "plt.plot(history.history['accuracy'])\n",
        "plt.plot(history.history['val_accuracy'])\n",
        "plt.title('Akurasi Model')\n",
        "plt.ylabel('accuracy')\n",
        "plt.xlabel('epoch')\n",
        "plt.legend(['train', 'test'], loc='upper left')\n",
        "plt.show()\n",
        "\n",
        "# Plot Loss\n",
        "plt.plot(history.history['loss'])\n",
        "plt.plot(history.history['val_loss'])\n",
        "plt.title('Loss Model')\n",
        "plt.ylabel('loss')\n",
        "plt.xlabel('epoch')\n",
        "plt.legend(['train', 'test'], loc='upper left')\n",
        "plt.show()\n"
      ],
      "execution_count": 25,
      "outputs": [
        {
          "output_type": "display_data",
          "data": {
            "image/png": "[encoded data removed]",
            "text/plain": [
              "<Figure size 432x288 with 1 Axes>"
            ]
          },
          "metadata": {
            "tags": [],
            "needs_background": "light"
          }
        },
        {
          "output_type": "display_data",
          "data": {
            "image/png": "[encoded data removed]",
            "text/plain": [
              "<Figure size 432x288 with 1 Axes>"
            ]
          },
          "metadata": {
            "tags": [],
            "needs_background": "light"
          }
        }
      ]
    }
  ]
}